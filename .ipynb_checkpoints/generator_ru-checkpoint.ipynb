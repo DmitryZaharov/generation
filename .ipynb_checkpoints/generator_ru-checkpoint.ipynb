{
 "cells": [
  {
   "cell_type": "code",
   "execution_count": 1,
   "metadata": {},
   "outputs": [],
   "source": [
    "#чтение файла\n",
    "f = open('text_training_ru')\n",
    "text = ''\n",
    "for line in f.readlines():\n",
    "    text+=str(line)\n",
    "f.close()"
   ]
  },
  {
   "cell_type": "code",
   "execution_count": 4,
   "metadata": {},
   "outputs": [],
   "source": [
    "import re\n",
    "import numpy as np\n",
    "#форматирование текста\n",
    "text = text.lower()\n",
    "text = text.strip()\n",
    "text = re.split(\"[^а-я]+\",text)#удаление неалфавитных символов\n",
    "#токенизация\n",
    "dictionary = {}\n",
    "for i in range(len(text)-1):\n",
    "    if dictionary.get(text[i],0)!=0:\n",
    "        pointer = dictionary.get(text[i])\n",
    "        pointer.append(text[i+1])\n",
    "        dictionary[text[i]]=pointer\n",
    "    else:\n",
    "        dictionary[text[i]]=[text[i+1]]\n",
    "#сохраняем модель\n",
    "np.save('model_ru.npy', dictionary) "
   ]
  },
  {
   "cell_type": "code",
   "execution_count": 5,
   "metadata": {},
   "outputs": [
    {
     "name": "stdout",
     "output_type": "stream",
     "text": [
      "введите длину генерируемой последовательности 2\n",
      "аллвлла алвлалав "
     ]
    }
   ],
   "source": [
    "import random\n",
    "#загружаем модель\n",
    "read_dictionary = np.load('model_ru.npy').item()\n",
    "#генерация последовательности\n",
    "length_text=int(input('введите длину генерируемой последовательности '))\n",
    "for i in range(length_text):\n",
    "    if i==0:\n",
    "        elem_ahead = random.choice(list(read_dictionary.keys()))\n",
    "        print(elem_ahead, end = ' ')\n",
    "    else:\n",
    "        elem_now = random.choice(read_dictionary.setdefault(elem_ahead))\n",
    "        print(elem_now, end = ' ')\n",
    "        elem_ahead = elem_now "
   ]
  },
  {
   "cell_type": "code",
   "execution_count": null,
   "metadata": {},
   "outputs": [],
   "source": []
  }
 ],
 "metadata": {
  "kernelspec": {
   "display_name": "Python 3",
   "language": "python",
   "name": "python3"
  },
  "language_info": {
   "codemirror_mode": {
    "name": "ipython",
    "version": 3
   },
   "file_extension": ".py",
   "mimetype": "text/x-python",
   "name": "python",
   "nbconvert_exporter": "python",
   "pygments_lexer": "ipython3",
   "version": "3.7.1"
  }
 },
 "nbformat": 4,
 "nbformat_minor": 2
}
