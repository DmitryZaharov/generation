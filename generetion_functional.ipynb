{
 "cells": [
  {
   "cell_type": "code",
   "execution_count": 1,
   "metadata": {},
   "outputs": [],
   "source": [
    "import re\n",
    "import numpy as np\n",
    "import random"
   ]
  },
  {
   "cell_type": "code",
   "execution_count": 2,
   "metadata": {},
   "outputs": [],
   "source": [
    "def reading():#чтение файла\n",
    "    name_training = str(input('введите название файла train '))\n",
    "    f = open('{}'.format(name_training))\n",
    "    text = ''\n",
    "    for line in f.readlines():\n",
    "        text+=str(line)\n",
    "    f.close()\n",
    "    return text"
   ]
  },
  {
   "cell_type": "code",
   "execution_count": 3,
   "metadata": {},
   "outputs": [],
   "source": [
    "def formatting(text):#форматирование текста\n",
    "    text = text.lower()\n",
    "    text = text.strip()\n",
    "    text = re.split(\"[^a-zа-яё]+\",text)#удаление неалфавитных символов\n",
    "    return text"
   ]
  },
  {
   "cell_type": "code",
   "execution_count": 4,
   "metadata": {},
   "outputs": [],
   "source": [
    "def tokenization(text):#токенизация\n",
    "    dictionary = {}\n",
    "    for i in range(len(text)-1):\n",
    "        if dictionary.get(text[i],0):\n",
    "            pointer = dictionary.get(text[i])\n",
    "            pointer.append(text[i+1])\n",
    "            dictionary[text[i]]=pointer\n",
    "        else:\n",
    "            dictionary[text[i]]=[text[i+1]]\n",
    "    return dictionary"
   ]
  },
  {
   "cell_type": "code",
   "execution_count": 5,
   "metadata": {},
   "outputs": [],
   "source": [
    "def save(token):#сохраняем модель\n",
    "    name_file = str(input('введите название модели сохранения '))\n",
    "    return np.save('{}.npy' .format(name_file), token) "
   ]
  },
  {
   "cell_type": "code",
   "execution_count": 6,
   "metadata": {},
   "outputs": [],
   "source": [
    "def load():#загружаем модель\n",
    "    name_file = str(input('введите название модели зарузки '))\n",
    "    read_dictionary = np.load('{}.npy' .format(name_file)).item()\n",
    "    return read_dictionary "
   ]
  },
  {
   "cell_type": "code",
   "execution_count": 7,
   "metadata": {},
   "outputs": [],
   "source": [
    "def generation(model):#генерация последовательности\n",
    "    read_dictionary = model\n",
    "    sequence=''\n",
    "    length_text=int(input('введите длину генерируемой последовательности '))\n",
    "    for i in range(length_text):\n",
    "        if i==0:\n",
    "            elem_ahead = random.choice(list(read_dictionary.keys()))\n",
    "            sequence += elem_ahead\n",
    "            sequence += ' '\n",
    "        else:\n",
    "            elem_now = random.choice(read_dictionary.setdefault(elem_ahead))\n",
    "            sequence += elem_now\n",
    "            sequence += ' '\n",
    "            elem_ahead = elem_now \n",
    "    return sequence"
   ]
  },
  {
   "cell_type": "code",
   "execution_count": 8,
   "metadata": {
    "scrolled": true
   },
   "outputs": [
    {
     "name": "stdout",
     "output_type": "stream",
     "text": [
      "введите название файла train text_training_ru\n",
      "введите название модели сохранения model_ru\n"
     ]
    }
   ],
   "source": [
    "text = reading()\n",
    "text_f = formatting(text)\n",
    "token = tokenization(text_f)\n",
    "name_file = save(token)"
   ]
  },
  {
   "cell_type": "code",
   "execution_count": 9,
   "metadata": {},
   "outputs": [
    {
     "name": "stdout",
     "output_type": "stream",
     "text": [
      "введите название модели зарузки model_ru\n"
     ]
    }
   ],
   "source": [
    "model = load()"
   ]
  },
  {
   "cell_type": "code",
   "execution_count": 11,
   "metadata": {},
   "outputs": [
    {
     "name": "stdout",
     "output_type": "stream",
     "text": [
      "введите длину генерируемой последовательности 10\n",
      "построить по этой работы заключается в правых для понимания логики \n"
     ]
    }
   ],
   "source": [
    "print(generation(model))"
   ]
  }
 ],
 "metadata": {
  "kernelspec": {
   "display_name": "Python 3",
   "language": "python",
   "name": "python3"
  },
  "language_info": {
   "codemirror_mode": {
    "name": "ipython",
    "version": 3
   },
   "file_extension": ".py",
   "mimetype": "text/x-python",
   "name": "python",
   "nbconvert_exporter": "python",
   "pygments_lexer": "ipython3",
   "version": "3.7.1"
  }
 },
 "nbformat": 4,
 "nbformat_minor": 2
}
